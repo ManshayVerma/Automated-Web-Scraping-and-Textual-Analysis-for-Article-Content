{
 "cells": [
  {
   "cell_type": "code",
   "execution_count": 65,
   "id": "e87fcdb4-e9e4-4e7c-bc6f-66bbb0dbb20b",
   "metadata": {
    "scrolled": true
   },
   "outputs": [
    {
     "name": "stdout",
     "output_type": "stream",
     "text": [
      "Requirement already satisfied: requests in c:\\users\\manshay\\anaconda3\\lib\\site-packages (2.31.0)Note: you may need to restart the kernel to use updated packages.\n",
      "\n",
      "Requirement already satisfied: beautifulsoup4 in c:\\users\\manshay\\anaconda3\\lib\\site-packages (4.12.2)\n",
      "Requirement already satisfied: pandas in c:\\users\\manshay\\anaconda3\\lib\\site-packages (2.1.4)\n",
      "Requirement already satisfied: charset-normalizer<4,>=2 in c:\\users\\manshay\\anaconda3\\lib\\site-packages (from requests) (2.0.4)\n",
      "Requirement already satisfied: idna<4,>=2.5 in c:\\users\\manshay\\anaconda3\\lib\\site-packages (from requests) (3.4)\n",
      "Requirement already satisfied: urllib3<3,>=1.21.1 in c:\\users\\manshay\\anaconda3\\lib\\site-packages (from requests) (2.0.7)\n",
      "Requirement already satisfied: certifi>=2017.4.17 in c:\\users\\manshay\\anaconda3\\lib\\site-packages (from requests) (2024.6.2)\n",
      "Requirement already satisfied: soupsieve>1.2 in c:\\users\\manshay\\anaconda3\\lib\\site-packages (from beautifulsoup4) (2.5)\n",
      "Requirement already satisfied: numpy<2,>=1.23.2 in c:\\users\\manshay\\anaconda3\\lib\\site-packages (from pandas) (1.26.4)\n",
      "Requirement already satisfied: python-dateutil>=2.8.2 in c:\\users\\manshay\\anaconda3\\lib\\site-packages (from pandas) (2.8.2)\n",
      "Requirement already satisfied: pytz>=2020.1 in c:\\users\\manshay\\anaconda3\\lib\\site-packages (from pandas) (2023.3.post1)\n",
      "Requirement already satisfied: tzdata>=2022.1 in c:\\users\\manshay\\anaconda3\\lib\\site-packages (from pandas) (2023.3)\n",
      "Requirement already satisfied: six>=1.5 in c:\\users\\manshay\\anaconda3\\lib\\site-packages (from python-dateutil>=2.8.2->pandas) (1.16.0)\n"
     ]
    }
   ],
   "source": [
    "pip install requests beautifulsoup4 pandas"
   ]
  },
  {
   "cell_type": "code",
   "execution_count": 66,
   "id": "37b4d12c-808e-47c0-bcc1-2eaf13e7bd88",
   "metadata": {},
   "outputs": [],
   "source": [
    "import requests"
   ]
  },
  {
   "cell_type": "code",
   "execution_count": 74,
   "id": "b306ec76-1101-4168-ac85-4a713a2d7a5a",
   "metadata": {},
   "outputs": [],
   "source": [
    "from bs4 import BeautifulSoup"
   ]
  },
  {
   "cell_type": "code",
   "execution_count": 76,
   "id": "f8b96581-ce3b-4153-b0c5-a05569a5b3f0",
   "metadata": {},
   "outputs": [],
   "source": [
    "import pandas as pd"
   ]
  },
  {
   "cell_type": "code",
   "execution_count": 78,
   "id": "0a0e1626-c355-47a1-a510-cad937d282a4",
   "metadata": {},
   "outputs": [],
   "source": [
    "import os"
   ]
  },
  {
   "cell_type": "markdown",
   "id": "d4221a0b-df26-49e4-b636-2abff0b33ef8",
   "metadata": {},
   "source": [
    "#### Load Excel File"
   ]
  },
  {
   "cell_type": "code",
   "execution_count": 80,
   "id": "d5f1de12-065d-40e6-bf13-c97625cc7cfe",
   "metadata": {},
   "outputs": [],
   "source": [
    "file_path = \"E:\\Software\\Input.xlsx\""
   ]
  },
  {
   "cell_type": "code",
   "execution_count": 82,
   "id": "bb6e0b98-c81c-47ac-b543-409a1bf4184b",
   "metadata": {},
   "outputs": [],
   "source": [
    "input_df = pd.read_excel(file_path)"
   ]
  },
  {
   "cell_type": "markdown",
   "id": "5f081515-1bf4-4915-8b16-7a9e32836ce4",
   "metadata": {},
   "source": [
    "#### take the url as input\n",
    "#### sent request to url and checks response is successful\n",
    "#### Parse the html content\n",
    "#### recive the title name\n",
    "#### extract the text\n",
    "#### and return the output"
   ]
  },
  {
   "cell_type": "code",
   "execution_count": 98,
   "id": "10ca359f-3870-47ea-9e00-d92b994033e8",
   "metadata": {},
   "outputs": [],
   "source": [
    "def extract_article_text(url):\n",
    "    response = requests.get(url)\n",
    "    if response.status_code != 200:\n",
    "        return None, None\n",
    "    soup = BeautifulSoup(response.content, 'html.parser')\n",
    "    title = soup.title.string if soup.title else 'No Text'\n",
    "    article = soup.find('article')\n",
    "    text = article.get_text(separator='\\n') if article else 'No Text'\n",
    "    return title, text"
   ]
  },
  {
   "cell_type": "markdown",
   "id": "3daadc96-9583-4255-aaae-512bd1543435",
   "metadata": {},
   "source": [
    "#### Create Directory to Save the Extracted title and text"
   ]
  },
  {
   "cell_type": "code",
   "execution_count": 101,
   "id": "793f6ae1-a037-455d-b6fb-bb6e2c797167",
   "metadata": {},
   "outputs": [],
   "source": [
    "output_dir = 'extracted_articles'"
   ]
  },
  {
   "cell_type": "code",
   "execution_count": 103,
   "id": "2f36595f-9152-4810-acfa-20c9bbfa3fdd",
   "metadata": {},
   "outputs": [],
   "source": [
    "os.makedirs(output_dir, exist_ok = True)"
   ]
  },
  {
   "cell_type": "markdown",
   "id": "ce5a3594-49cc-4037-a148-837b4e7e18c7",
   "metadata": {},
   "source": [
    "#### Iterate allover URL and Extract the Article Text"
   ]
  },
  {
   "cell_type": "code",
   "execution_count": 109,
   "id": "a1c5a45d-f021-4630-94b5-fe9bd16e061b",
   "metadata": {},
   "outputs": [
    {
     "name": "stdout",
     "output_type": "stream",
     "text": [
      "Successfully extracted: bctech2011\n",
      "Successfully extracted: bctech2012\n",
      "Successfully extracted: bctech2013\n",
      "Successfully extracted: bctech2014\n",
      "Successfully extracted: bctech2015\n",
      "Successfully extracted: bctech2016\n",
      "Successfully extracted: bctech2017\n",
      "Successfully extracted: bctech2018\n",
      "Successfully extracted: bctech2019\n",
      "Successfully extracted: bctech2020\n",
      "Successfully extracted: bctech2021\n",
      "Successfully extracted: bctech2022\n",
      "Successfully extracted: bctech2023\n",
      "Successfully extracted: bctech2024\n",
      "Successfully extracted: bctech2025\n",
      "Successfully extracted: bctech2026\n",
      "Successfully extracted: bctech2027\n",
      "Successfully extracted: bctech2028\n",
      "Successfully extracted: bctech2029\n",
      "Successfully extracted: bctech2030\n",
      "Successfully extracted: bctech2031\n",
      "Successfully extracted: bctech2032\n",
      "Successfully extracted: bctech2033\n",
      "Successfully extracted: bctech2034\n",
      "Successfully extracted: bctech2035\n",
      "Successfully extracted: bctech2036\n",
      "Successfully extracted: bctech2037\n",
      "Successfully extracted: bctech2038\n",
      "Successfully extracted: bctech2039\n",
      "Successfully extracted: bctech2040\n",
      "Successfully extracted: bctech2041\n",
      "Successfully extracted: bctech2042\n",
      "Successfully extracted: bctech2043\n",
      "Successfully extracted: bctech2044\n",
      "Successfully extracted: bctech2045\n",
      "Successfully extracted: bctech2046\n",
      "Successfully extracted: bctech2047\n",
      "Successfully extracted: bctech2048\n",
      "Successfully extracted: bctech2049\n",
      "Successfully extracted: bctech2050\n",
      "Successfully extracted: bctech2051\n",
      "Successfully extracted: bctech2052\n",
      "Successfully extracted: bctech2053\n",
      "Successfully extracted: bctech2054\n",
      "Successfully extracted: bctech2055\n",
      "Successfully extracted: bctech2056\n",
      "Successfully extracted: bctech2057\n",
      "Successfully extracted: bctech2058\n",
      "Successfully extracted: bctech2059\n",
      "Successfully extracted: bctech2060\n",
      "Successfully extracted: bctech2061\n",
      "Successfully extracted: bctech2062\n",
      "Successfully extracted: bctech2063\n",
      "Successfully extracted: bctech2064\n",
      "Successfully extracted: bctech2065\n",
      "Successfully extracted: bctech2066\n",
      "Successfully extracted: bctech2067\n",
      "Successfully extracted: bctech2068\n",
      "Successfully extracted: bctech2069\n",
      "Successfully extracted: bctech2070\n",
      "Successfully extracted: bctech2071\n",
      "Successfully extracted: bctech2072\n",
      "Successfully extracted: bctech2073\n",
      "Successfully extracted: bctech2074\n",
      "Successfully extracted: bctech2075\n",
      "Successfully extracted: bctech2076\n",
      "Successfully extracted: bctech2077\n",
      "Successfully extracted: bctech2078\n",
      "Successfully extracted: bctech2079\n",
      "Successfully extracted: bctech2080\n",
      "Successfully extracted: bctech2081\n",
      "Successfully extracted: bctech2082\n",
      "Successfully extracted: bctech2083\n",
      "Successfully extracted: bctech2084\n",
      "Successfully extracted: bctech2085\n",
      "Successfully extracted: bctech2086\n",
      "Successfully extracted: bctech2087\n",
      "Successfully extracted: bctech2088\n",
      "Successfully extracted: bctech2089\n",
      "Successfully extracted: bctech2090\n",
      "Successfully extracted: bctech2091\n",
      "Successfully extracted: bctech2092\n",
      "Successfully extracted: bctech2093\n",
      "Successfully extracted: bctech2094\n",
      "Successfully extracted: bctech2095\n",
      "Successfully extracted: bctech2096\n",
      "Successfully extracted: bctech2097\n",
      "Successfully extracted: bctech2098\n",
      "Successfully extracted: bctech2099\n",
      "Successfully extracted: bctech2100\n",
      "Successfully extracted: bctech2101\n",
      "Successfully extracted: bctech2102\n",
      "Successfully extracted: bctech2103\n",
      "Successfully extracted: bctech2104\n",
      "Successfully extracted: bctech2105\n",
      "Successfully extracted: bctech2106\n",
      "Successfully extracted: bctech2107\n",
      "Successfully extracted: bctech2108\n",
      "Successfully extracted: bctech2109\n",
      "Successfully extracted: bctech2110\n",
      "Successfully extracted: bctech2111\n",
      "Successfully extracted: bctech2112\n",
      "Successfully extracted: bctech2113\n",
      "Successfully extracted: bctech2114\n",
      "Successfully extracted: bctech2115\n",
      "Successfully extracted: bctech2116\n",
      "Successfully extracted: bctech2117\n",
      "Successfully extracted: bctech2118\n",
      "Successfully extracted: bctech2119\n",
      "Successfully extracted: bctech2120\n",
      "Successfully extracted: bctech2121\n",
      "Successfully extracted: bctech2122\n",
      "Successfully extracted: bctech2123\n",
      "Successfully extracted: bctech2124\n",
      "Successfully extracted: bctech2125\n",
      "Successfully extracted: bctech2126\n",
      "Successfully extracted: bctech2127\n",
      "Successfully extracted: bctech2128\n",
      "Successfully extracted: bctech2129\n",
      "Successfully extracted: bctech2130\n",
      "Successfully extracted: bctech2131\n",
      "Successfully extracted: bctech2132\n",
      "Successfully extracted: bctech2133\n",
      "Successfully extracted: bctech2134\n",
      "Successfully extracted: bctech2135\n",
      "Successfully extracted: bctech2136\n",
      "Successfully extracted: bctech2137\n",
      "Successfully extracted: bctech2138\n",
      "Successfully extracted: bctech2139\n",
      "Successfully extracted: bctech2140\n",
      "Successfully extracted: bctech2141\n",
      "Successfully extracted: bctech2142\n",
      "Successfully extracted: bctech2143\n",
      "Successfully extracted: bctech2144\n",
      "Successfully extracted: bctech2145\n",
      "Successfully extracted: bctech2146\n",
      "Successfully extracted: bctech2147\n",
      "Successfully extracted: bctech2148\n",
      "Successfully extracted: bctech2149\n",
      "Successfully extracted: bctech2150\n",
      "Successfully extracted: bctech2151\n",
      "Successfully extracted: bctech2152\n",
      "Successfully extracted: bctech2153\n",
      "Successfully extracted: bctech2154\n",
      "Successfully extracted: bctech2155\n",
      "Successfully extracted: bctech2156\n",
      "Successfully extracted: bctech2157\n"
     ]
    }
   ],
   "source": [
    "for idx, row in input_df.iterrows():\n",
    "    url_id = row['URL_ID']\n",
    "    url = row['URL']\n",
    "    title, text = extract_article_text(url)\n",
    "    if title and text:\n",
    "        file_path = os.path.join(output_dir, f'{url_id}.txt')\n",
    "        with open(file_path, 'w', encoding='utf-8') as file:\n",
    "            file.write(title + '\\n' + text)\n",
    "        print(f'Successfully extracted: {url_id}')\n",
    "    else:\n",
    "        print(f'Failed to extract: {url_id}')"
   ]
  },
  {
   "cell_type": "code",
   "execution_count": null,
   "id": "037e0805-522d-48b3-8df7-3467b39933dd",
   "metadata": {},
   "outputs": [],
   "source": []
  }
 ],
 "metadata": {
  "kernelspec": {
   "display_name": "Python 3 (ipykernel)",
   "language": "python",
   "name": "python3"
  },
  "language_info": {
   "codemirror_mode": {
    "name": "ipython",
    "version": 3
   },
   "file_extension": ".py",
   "mimetype": "text/x-python",
   "name": "python",
   "nbconvert_exporter": "python",
   "pygments_lexer": "ipython3",
   "version": "3.11.7"
  }
 },
 "nbformat": 4,
 "nbformat_minor": 5
}
